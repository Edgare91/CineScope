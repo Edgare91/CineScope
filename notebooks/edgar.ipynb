{
 "cells": [
  {
   "cell_type": "code",
   "execution_count": 1,
   "id": "f0d0eee1",
   "metadata": {},
   "outputs": [],
   "source": [
    "# Data Cleaning Script\n",
    "\n",
    "import pandas as pd\n",
    "import numpy as np"
   ]
  },
  {
   "cell_type": "code",
   "execution_count": null,
   "id": "88944a07",
   "metadata": {},
   "outputs": [],
   "source": [
    "# Edgar "
   ]
  }
 ],
 "metadata": {
  "kernelspec": {
   "display_name": "Python (conda) - Data Analytics (da-main)",
   "language": "python",
   "name": "da-main"
  },
  "language_info": {
   "codemirror_mode": {
    "name": "ipython",
    "version": 3
   },
   "file_extension": ".py",
   "mimetype": "text/x-python",
   "name": "python",
   "nbconvert_exporter": "python",
   "pygments_lexer": "ipython3",
   "version": "3.12.10"
  }
 },
 "nbformat": 4,
 "nbformat_minor": 5
}
